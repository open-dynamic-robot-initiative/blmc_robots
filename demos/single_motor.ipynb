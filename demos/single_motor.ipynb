{
 "cells": [
  {
   "cell_type": "code",
   "execution_count": 1,
   "metadata": {},
   "outputs": [],
   "source": [
    "import time\n",
    "import numpy as np\n",
    "from blmc_robots import SingleLeg\n",
    "from IPython.display import display, clear_output\n",
    "\n",
    "np.set_printoptions(suppress=True, precision=3)"
   ]
  },
  {
   "cell_type": "code",
   "execution_count": 2,
   "metadata": {},
   "outputs": [],
   "source": [
    "leg = SingleLeg()\n",
    "leg.initialize()\n",
    "leg.disable_can_recv_timeout()"
   ]
  },
  {
   "cell_type": "code",
   "execution_count": 5,
   "metadata": {},
   "outputs": [
    {
     "name": "stdout",
     "output_type": "stream",
     "text": [
      "interrupted!\n"
     ]
    }
   ],
   "source": [
    "P = 1.0\n",
    "D = 0.1\n",
    "\n",
    "try:\n",
    "    while True:\n",
    "        leg.acquire_sensors()\n",
    "        des_pos = leg.get_slider_positions()\n",
    "        pos = leg.get_joint_positions()\n",
    "        vel = leg.get_joint_velocities()\n",
    "         \n",
    "        tau = P * (des_pos - pos) - D * vel\n",
    "                \n",
    "        leg.send_target_joint_torque(tau)\n",
    "        time.sleep(0.001)\n",
    "except KeyboardInterrupt:\n",
    "    print('interrupted!')\n",
    "\n",
    "# Need to send zero torques. Otherwise the safety mode on the card kicks in\n",
    "# and the card goes into error mode.\n",
    "leg.send_target_joint_torque(np.array([0., 0.]))"
   ]
  },
  {
   "cell_type": "code",
   "execution_count": null,
   "metadata": {
    "scrolled": true
   },
   "outputs": [
    {
     "name": "stdout",
     "output_type": "stream",
     "text": [
      "[0.922 0.923]\n"
     ]
    }
   ],
   "source": [
    "try:\n",
    "    while True:\n",
    "        clear_output(wait=True)\n",
    "        leg.acquire_sensors()\n",
    "        print(leg.get_slider_positions())\n",
    "        time.sleep(0.001)\n",
    "except KeyboardInterrupt:\n",
    "    print('interrupted!')"
   ]
  },
  {
   "cell_type": "code",
   "execution_count": 10,
   "metadata": {},
   "outputs": [
    {
     "name": "stdout",
     "output_type": "stream",
     "text": [
      "[-0.01  -0.001]\n",
      "interrupted!\n"
     ]
    }
   ],
   "source": [
    "try:\n",
    "    while True:\n",
    "        clear_output(wait=True)\n",
    "        leg.acquire_sensors()\n",
    "        des_pos = leg.get_slider_positions()\n",
    "        pos = leg.get_joint_positions()\n",
    "        print(pos)\n",
    "        time.sleep(0.001)\n",
    "except KeyboardInterrupt:\n",
    "    print('interrupted!')"
   ]
  },
  {
   "cell_type": "code",
   "execution_count": 4,
   "metadata": {},
   "outputs": [],
   "source": [
    "leg.zero_joint_positions()"
   ]
  },
  {
   "cell_type": "code",
   "execution_count": null,
   "metadata": {},
   "outputs": [],
   "source": []
  }
 ],
 "metadata": {
  "kernelspec": {
   "display_name": "Python 2",
   "language": "python",
   "name": "python2"
  },
  "language_info": {
   "codemirror_mode": {
    "name": "ipython",
    "version": 2
   },
   "file_extension": ".py",
   "mimetype": "text/x-python",
   "name": "python",
   "nbconvert_exporter": "python",
   "pygments_lexer": "ipython2",
   "version": "2.7.12"
  }
 },
 "nbformat": 4,
 "nbformat_minor": 2
}
